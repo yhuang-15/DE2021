{
 "cells": [
  {
   "cell_type": "code",
   "execution_count": 31,
   "id": "07c3b004-ba42-4124-b04f-acd84c892978",
   "metadata": {},
   "outputs": [],
   "source": [
    "import json\n",
    "import kfp\n",
    "import kfp.dsl as dsl\n",
    "import kfp.components as comp\n",
    "from kfp.components import OutputPath"
   ]
  },
  {
   "cell_type": "markdown",
   "id": "8d1d47f1-21f4-4414-907e-ad9e3898397f",
   "metadata": {},
   "source": [
    "#### Pipeline Configurations"
   ]
  },
  {
   "cell_type": "code",
   "execution_count": 32,
   "id": "94faa2d8-89da-4bdd-a4a5-5cd82bd53ef9",
   "metadata": {},
   "outputs": [],
   "source": [
    "#The Google Cloud project that this pipeline runs in.\n",
    "project_id = \"de2021-324520\"\n",
    "# The region that this pipeline runs in\n",
    "region = \"us-west1\"\n",
    "# Specify a Cloud Storage URI that your pipelines service account can access. The artifacts of your pipeline runs are stored within the pipeline root.\n",
    "pipeline_root_path = \"gs://dejads_temp\""
   ]
  },
  {
   "cell_type": "markdown",
   "id": "e0a85608-35c3-4879-bc3e-50efc8fc8427",
   "metadata": {},
   "source": [
    "#### Create the Components from Component Specifications "
   ]
  },
  {
   "cell_type": "code",
   "execution_count": 33,
   "id": "f079b57a-e305-420c-a47e-cbbedfe9b265",
   "metadata": {},
   "outputs": [],
   "source": [
    "from kfp.components import load_component_from_file\n",
    "\n",
    "data_ingestion_op = load_component_from_file(\n",
    "    './components/data_ingestor_component.yaml')\n",
    "\n",
    "mlp_model_op = load_component_from_file(\n",
    "    './components/mlp_trainer_component.yaml')"
   ]
  },
  {
   "cell_type": "markdown",
   "id": "bfd09522-58a0-4414-95ef-54cc6a817c33",
   "metadata": {},
   "source": [
    "#### Define the Pipeline"
   ]
  },
  {
   "cell_type": "code",
   "execution_count": 34,
   "id": "226c8165-3459-4e43-b277-c35ba4a39316",
   "metadata": {},
   "outputs": [],
   "source": [
    "# Define the workflow of the pipeline.\n",
    "@kfp.dsl.pipeline(\n",
    "    name=\"lab9-v2\",\n",
    "    pipeline_root=pipeline_root_path)\n",
    "def pipeline(project_id: str, data_bucket: str, testset_filename: str, model_repo: str):\n",
    "    \n",
    "    # The first step    \n",
    "    di_op = data_ingestion_op(\n",
    "        project_id=project_id,\n",
    "        bucket=data_bucket,\n",
    "        file_name=testset_filename\n",
    "    )\n",
    "\n",
    "    # The second step \n",
    "    training_job_run_op = mlp_model_op(\n",
    "        project_id=project_id,\n",
    "        model_repo=model_repo,       \n",
    "        feature_path=di_op.outputs['output_path']\n",
    "    )\n",
    "    print(training_job_run_op.outputs['metrics_path'])"
   ]
  },
  {
   "cell_type": "markdown",
   "id": "f3fba21b-eef1-4454-9809-625f22713117",
   "metadata": {},
   "source": [
    "#### Compile the Pipeline"
   ]
  },
  {
   "cell_type": "code",
   "execution_count": 36,
   "id": "2ca3e726-654c-4a47-9088-08669d579844",
   "metadata": {},
   "outputs": [
    {
     "name": "stdout",
     "output_type": "stream",
     "text": [
      "{{pipelineparam:op=train-mlp;name=metrics_path}}\n"
     ]
    }
   ],
   "source": [
    "from kfp.v2 import compiler\n",
    "compiler.Compiler().compile(pipeline_func=pipeline,\n",
    "        package_path='diabetes_predictor_pipeline_v2.json')"
   ]
  },
  {
   "cell_type": "markdown",
   "id": "e699a5a5-2f9d-4519-8792-fdfcaeb4de26",
   "metadata": {},
   "source": [
    "#### Run the Pipeline"
   ]
  },
  {
   "cell_type": "code",
   "execution_count": 37,
   "id": "de309748-04ad-4b18-9590-6b9d46fbcace",
   "metadata": {},
   "outputs": [
    {
     "name": "stdout",
     "output_type": "stream",
     "text": [
      "INFO:google.cloud.aiplatform.pipeline_jobs:Creating PipelineJob\n",
      "INFO:google.cloud.aiplatform.pipeline_jobs:PipelineJob created. Resource name: projects/411957191814/locations/us-central1/pipelineJobs/lab9-v2-20211116191225\n",
      "INFO:google.cloud.aiplatform.pipeline_jobs:To use this PipelineJob in another session:\n",
      "INFO:google.cloud.aiplatform.pipeline_jobs:pipeline_job = aiplatform.PipelineJob.get('projects/411957191814/locations/us-central1/pipelineJobs/lab9-v2-20211116191225')\n",
      "INFO:google.cloud.aiplatform.pipeline_jobs:View Pipeline Job:\n",
      "https://console.cloud.google.com/vertex-ai/locations/us-central1/pipelines/runs/lab9-v2-20211116191225?project=411957191814\n",
      "INFO:google.cloud.aiplatform.pipeline_jobs:PipelineJob projects/411957191814/locations/us-central1/pipelineJobs/lab9-v2-20211116191225 current state:\n",
      "PipelineState.PIPELINE_STATE_RUNNING\n",
      "INFO:google.cloud.aiplatform.pipeline_jobs:PipelineJob projects/411957191814/locations/us-central1/pipelineJobs/lab9-v2-20211116191225 current state:\n",
      "PipelineState.PIPELINE_STATE_RUNNING\n",
      "INFO:google.cloud.aiplatform.pipeline_jobs:PipelineJob projects/411957191814/locations/us-central1/pipelineJobs/lab9-v2-20211116191225 current state:\n",
      "PipelineState.PIPELINE_STATE_RUNNING\n",
      "INFO:google.cloud.aiplatform.pipeline_jobs:PipelineJob projects/411957191814/locations/us-central1/pipelineJobs/lab9-v2-20211116191225 current state:\n",
      "PipelineState.PIPELINE_STATE_RUNNING\n",
      "INFO:google.cloud.aiplatform.pipeline_jobs:PipelineJob projects/411957191814/locations/us-central1/pipelineJobs/lab9-v2-20211116191225 current state:\n",
      "PipelineState.PIPELINE_STATE_RUNNING\n",
      "INFO:google.cloud.aiplatform.pipeline_jobs:PipelineJob run completed. Resource name: projects/411957191814/locations/us-central1/pipelineJobs/lab9-v2-20211116191225\n"
     ]
    }
   ],
   "source": [
    "import google.cloud.aiplatform as aip\n",
    "\n",
    "job = aip.PipelineJob(\n",
    "    display_name=\"lab9-v1-diabetes-predictor-v2\",\n",
    "    template_path=\"diabetes_predictor_pipeline_v2.json\",\n",
    "    pipeline_root=pipeline_root_path,\n",
    "    parameter_values={\n",
    "        'project_id': project_id,\n",
    "        'data_bucket': 'dejads_input',\n",
    "        'testset_filename': 'training_set.csv',\n",
    "        'model_repo':'model_repo_de2021'\n",
    "    }\n",
    ")\n",
    "\n",
    "job.run()"
   ]
  }
 ],
 "metadata": {
  "environment": {
   "kernel": "python3",
   "name": "common-cpu.m84",
   "type": "gcloud",
   "uri": "gcr.io/deeplearning-platform-release/base-cpu:m84"
  },
  "kernelspec": {
   "display_name": "Python 3",
   "language": "python",
   "name": "python3"
  },
  "language_info": {
   "codemirror_mode": {
    "name": "ipython",
    "version": 3
   },
   "file_extension": ".py",
   "mimetype": "text/x-python",
   "name": "python",
   "nbconvert_exporter": "python",
   "pygments_lexer": "ipython3",
   "version": "3.7.12"
  }
 },
 "nbformat": 4,
 "nbformat_minor": 5
}
